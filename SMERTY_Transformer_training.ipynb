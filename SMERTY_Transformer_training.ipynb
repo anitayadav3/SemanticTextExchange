{
  "nbformat": 4,
  "nbformat_minor": 0,
  "metadata": {
    "accelerator": "GPU",
    "colab": {
      "name": "SMERTY_Transformer_training.ipynb",
      "provenance": [],
      "collapsed_sections": [],
      "toc_visible": true,
      "include_colab_link": true
    },
    "kernelspec": {
      "display_name": "Python 3",
      "language": "python",
      "name": "python3"
    },
    "language_info": {
      "codemirror_mode": {
        "name": "ipython",
        "version": 3
      },
      "file_extension": ".py",
      "mimetype": "text/x-python",
      "name": "python",
      "nbconvert_exporter": "python",
      "pygments_lexer": "ipython3",
      "version": "3.7.3"
    }
  },
  "cells": [
    {
      "cell_type": "markdown",
      "metadata": {
        "id": "view-in-github",
        "colab_type": "text"
      },
      "source": [
        "<a href=\"https://colab.research.google.com/github/anitayadav3/SemanticTextExchange/blob/master/SMERTY_Transformer_training.ipynb\" target=\"_parent\"><img src=\"https://colab.research.google.com/assets/colab-badge.svg\" alt=\"Open In Colab\"/></a>"
      ]
    },
    {
      "cell_type": "markdown",
      "metadata": {
        "colab_type": "text",
        "id": "iYiwEwDo9JUx"
      },
      "source": [
        "Based on code from: http://nlp.seas.harvard.edu/2018/04/03/attention.html"
      ]
    },
    {
      "cell_type": "markdown",
      "metadata": {
        "colab_type": "text",
        "id": "bgcFDfoC9JUy"
      },
      "source": [
        "# Prelims"
      ]
    },
    {
      "cell_type": "code",
      "metadata": {
        "colab_type": "code",
        "id": "MTzdLpyU9TRc",
        "colab": {
          "base_uri": "https://localhost:8080/",
          "height": 34
        },
        "outputId": "f7a982f0-8f9c-4490-cbc1-a5efb6e61075"
      },
      "source": [
        "from google.colab import drive\n",
        "drive.mount('/content/drive')"
      ],
      "execution_count": 1,
      "outputs": [
        {
          "output_type": "stream",
          "text": [
            "Mounted at /content/drive\n"
          ],
          "name": "stdout"
        }
      ]
    },
    {
      "cell_type": "code",
      "metadata": {
        "colab_type": "code",
        "id": "AOGzE5-e9XA_",
        "colab": {
          "base_uri": "https://localhost:8080/",
          "height": 70
        },
        "outputId": "000256fa-c31e-4760-f214-b1af287ee6b9"
      },
      "source": [
        "import numpy as np\n",
        "import torch\n",
        "import torch.nn as nn\n",
        "import torch.nn.functional as F\n",
        "import math, copy, time\n",
        "from torch.autograd import Variable\n",
        "import matplotlib.pyplot as plt\n",
        "import seaborn\n",
        "seaborn.set_context(context=\"talk\")\n",
        "%matplotlib inline"
      ],
      "execution_count": 2,
      "outputs": [
        {
          "output_type": "stream",
          "text": [
            "/usr/local/lib/python3.6/dist-packages/statsmodels/tools/_testing.py:19: FutureWarning: pandas.util.testing is deprecated. Use the functions in the public API at pandas.testing instead.\n",
            "  import pandas.util.testing as tm\n"
          ],
          "name": "stderr"
        }
      ]
    },
    {
      "cell_type": "code",
      "metadata": {
        "colab_type": "code",
        "id": "4lE7hjrW6DCw",
        "colab": {
          "base_uri": "https://localhost:8080/",
          "height": 370
        },
        "outputId": "079c8bdf-4796-45af-b8ea-0721307adc05"
      },
      "source": [
        "cuda = torch.cuda.is_available()\n",
        "device = torch.device(\"cuda\" if cuda else \"cpu\")\n",
        "if cuda:\n",
        "  print(\"Using CUDA from GPU\")\n",
        "\n",
        "!nvidia-smi"
      ],
      "execution_count": 3,
      "outputs": [
        {
          "output_type": "stream",
          "text": [
            "Using CUDA from GPU\n",
            "Mon Sep 21 19:54:18 2020       \n",
            "+-----------------------------------------------------------------------------+\n",
            "| NVIDIA-SMI 450.66       Driver Version: 418.67       CUDA Version: 10.1     |\n",
            "|-------------------------------+----------------------+----------------------+\n",
            "| GPU  Name        Persistence-M| Bus-Id        Disp.A | Volatile Uncorr. ECC |\n",
            "| Fan  Temp  Perf  Pwr:Usage/Cap|         Memory-Usage | GPU-Util  Compute M. |\n",
            "|                               |                      |               MIG M. |\n",
            "|===============================+======================+======================|\n",
            "|   0  Tesla P100-PCIE...  Off  | 00000000:00:04.0 Off |                    0 |\n",
            "| N/A   38C    P0    30W / 250W |     10MiB / 16280MiB |      0%      Default |\n",
            "|                               |                      |                 ERR! |\n",
            "+-------------------------------+----------------------+----------------------+\n",
            "                                                                               \n",
            "+-----------------------------------------------------------------------------+\n",
            "| Processes:                                                                  |\n",
            "|  GPU   GI   CI        PID   Type   Process name                  GPU Memory |\n",
            "|        ID   ID                                                   Usage      |\n",
            "|=============================================================================|\n",
            "|  No running processes found                                                 |\n",
            "+-----------------------------------------------------------------------------+\n"
          ],
          "name": "stdout"
        }
      ]
    },
    {
      "cell_type": "markdown",
      "metadata": {
        "colab_type": "text",
        "id": "hjlDUnqS9JU-"
      },
      "source": [
        "# Model Architecture"
      ]
    },
    {
      "cell_type": "code",
      "metadata": {
        "colab_type": "code",
        "id": "7QgofpXS9JVA",
        "colab": {}
      },
      "source": [
        "class EncoderDecoder(nn.Module):\n",
        "    \"\"\"\n",
        "    A standard Encoder-Decoder architecture. Base for this and many \n",
        "    other models.\n",
        "    \"\"\"\n",
        "    def __init__(self, encoder, decoder, src_embed, tgt_embed, generator):\n",
        "        super(EncoderDecoder, self).__init__()\n",
        "        self.encoder = encoder\n",
        "        self.decoder = decoder\n",
        "        self.src_embed = src_embed\n",
        "        self.tgt_embed = tgt_embed\n",
        "        self.generator = generator\n",
        "        \n",
        "    def forward(self, src, tgt, src_mask, tgt_mask):\n",
        "        \"Take in and process masked src and target sequences.\"\n",
        "        return self.decode(self.encode(src, src_mask), src_mask,\n",
        "                            tgt, tgt_mask)\n",
        "    \n",
        "    def encode(self, src, src_mask):\n",
        "        return self.encoder(self.src_embed(src), src_mask)\n",
        "    \n",
        "    def decode(self, memory, src_mask, tgt, tgt_mask):\n",
        "        return self.decoder(self.tgt_embed(tgt), memory, src_mask, tgt_mask)"
      ],
      "execution_count": 4,
      "outputs": []
    },
    {
      "cell_type": "code",
      "metadata": {
        "colab_type": "code",
        "id": "uEwpMLJA9JVE",
        "colab": {}
      },
      "source": [
        "class Generator(nn.Module):\n",
        "    \"Define standard linear + softmax generation step.\"\n",
        "    def __init__(self, d_model, vocab):\n",
        "        super(Generator, self).__init__()\n",
        "        self.proj = nn.Linear(d_model, vocab)\n",
        "\n",
        "    def forward(self, x):\n",
        "        return F.log_softmax(self.proj(x), dim=-1)"
      ],
      "execution_count": 5,
      "outputs": []
    },
    {
      "cell_type": "markdown",
      "metadata": {
        "colab_type": "text",
        "id": "Q_mEeSYI9JXJ"
      },
      "source": [
        "## Encoder and Decoder Stacks   "
      ]
    },
    {
      "cell_type": "code",
      "metadata": {
        "colab_type": "code",
        "id": "2yPm8pHt9JXL",
        "colab": {}
      },
      "source": [
        "def clones(module, N):\n",
        "    \"Produce N identical layers.\"\n",
        "    return nn.ModuleList([copy.deepcopy(module) for _ in range(N)])"
      ],
      "execution_count": 6,
      "outputs": []
    },
    {
      "cell_type": "code",
      "metadata": {
        "colab_type": "code",
        "id": "zQ--jKKt9JXX",
        "colab": {}
      },
      "source": [
        "class Encoder(nn.Module):\n",
        "    \"Core encoder is a stack of N layers\"\n",
        "    def __init__(self, layer, N):\n",
        "        super(Encoder, self).__init__()\n",
        "        self.layers = clones(layer, N)\n",
        "        self.norm = LayerNorm(layer.size)\n",
        "        \n",
        "    def forward(self, x, mask):\n",
        "        \"Pass the input (and mask) through each layer in turn.\"\n",
        "        for layer in self.layers:\n",
        "            x = layer(x, mask)\n",
        "        return self.norm(x)"
      ],
      "execution_count": 7,
      "outputs": []
    },
    {
      "cell_type": "code",
      "metadata": {
        "colab_type": "code",
        "id": "ssQS3hQG9JX4",
        "colab": {}
      },
      "source": [
        "class LayerNorm(nn.Module):\n",
        "    \"Construct a layernorm module (See citation for details).\"\n",
        "    def __init__(self, features, eps=1e-6):\n",
        "        super(LayerNorm, self).__init__()\n",
        "        self.a_2 = nn.Parameter(torch.ones(features))\n",
        "        self.b_2 = nn.Parameter(torch.zeros(features))\n",
        "        self.eps = eps\n",
        "\n",
        "    def forward(self, x):\n",
        "        mean = x.mean(-1, keepdim=True)\n",
        "        std = x.std(-1, keepdim=True)\n",
        "        return self.a_2 * (x - mean) / (std + self.eps) + self.b_2"
      ],
      "execution_count": 8,
      "outputs": []
    },
    {
      "cell_type": "code",
      "metadata": {
        "colab_type": "code",
        "id": "qQx7BLDG9JYO",
        "colab": {}
      },
      "source": [
        "class SublayerConnection(nn.Module):\n",
        "    \"\"\"\n",
        "    A residual connection followed by a layer norm.\n",
        "    Note for code simplicity the norm is first as opposed to last.\n",
        "    \"\"\"\n",
        "    def __init__(self, size, dropout):\n",
        "        super(SublayerConnection, self).__init__()\n",
        "        self.norm = LayerNorm(size)\n",
        "        self.dropout = nn.Dropout(dropout)\n",
        "\n",
        "    def forward(self, x, sublayer):\n",
        "        \"Apply residual connection to any sublayer with the same size.\"\n",
        "        return x + self.dropout(sublayer(self.norm(x)))"
      ],
      "execution_count": 9,
      "outputs": []
    },
    {
      "cell_type": "code",
      "metadata": {
        "colab_type": "code",
        "id": "YNrjVmiL9JYb",
        "colab": {}
      },
      "source": [
        "class EncoderLayer(nn.Module):\n",
        "    \"Encoder is made up of self-attn and feed forward (defined below)\"\n",
        "    def __init__(self, size, self_attn, feed_forward, dropout):\n",
        "        super(EncoderLayer, self).__init__()\n",
        "        self.self_attn = self_attn\n",
        "        self.feed_forward = feed_forward\n",
        "        self.sublayer = clones(SublayerConnection(size, dropout), 2)\n",
        "        self.size = size\n",
        "\n",
        "    def forward(self, x, mask):\n",
        "        \"Follow Figure 1 (left) for connections.\"\n",
        "        x = self.sublayer[0](x, lambda x: self.self_attn(x, x, x, mask))\n",
        "        return self.sublayer[1](x, self.feed_forward)"
      ],
      "execution_count": 10,
      "outputs": []
    },
    {
      "cell_type": "code",
      "metadata": {
        "colab_type": "code",
        "id": "tfbBCX_m9JYl",
        "colab": {}
      },
      "source": [
        "class Decoder(nn.Module):\n",
        "    \"Generic N layer decoder with masking.\"\n",
        "    def __init__(self, layer, N):\n",
        "        super(Decoder, self).__init__()\n",
        "        self.layers = clones(layer, N)\n",
        "        self.norm = LayerNorm(layer.size)\n",
        "        \n",
        "    def forward(self, x, memory, src_mask, tgt_mask):\n",
        "        for layer in self.layers:\n",
        "            x = layer(x, memory, src_mask, tgt_mask)\n",
        "        return self.norm(x)"
      ],
      "execution_count": 11,
      "outputs": []
    },
    {
      "cell_type": "code",
      "metadata": {
        "colab_type": "code",
        "id": "iWl79xTk9JZC",
        "colab": {}
      },
      "source": [
        "class DecoderLayer(nn.Module):\n",
        "    \"Decoder is made of self-attn, src-attn, and feed forward (defined below)\"\n",
        "    def __init__(self, size, self_attn, src_attn, feed_forward, dropout):\n",
        "        super(DecoderLayer, self).__init__()\n",
        "        self.size = size\n",
        "        self.self_attn = self_attn\n",
        "        self.src_attn = src_attn\n",
        "        self.feed_forward = feed_forward\n",
        "        self.sublayer = clones(SublayerConnection(size, dropout), 3)\n",
        " \n",
        "    def forward(self, x, memory, src_mask, tgt_mask):\n",
        "        \"Follow Figure 1 (right) for connections.\"\n",
        "        m = memory\n",
        "        x = self.sublayer[0](x, lambda x: self.self_attn(x, x, x, tgt_mask))\n",
        "        x = self.sublayer[1](x, lambda x: self.src_attn(x, m, m, src_mask))\n",
        "        return self.sublayer[2](x, self.feed_forward)"
      ],
      "execution_count": 12,
      "outputs": []
    },
    {
      "cell_type": "code",
      "metadata": {
        "colab_type": "code",
        "id": "v9rjpmYJ9JZe",
        "colab": {}
      },
      "source": [
        "def subsequent_mask(size):\n",
        "    \"Mask out subsequent positions.\"\n",
        "    attn_shape = (1, size, size)\n",
        "    subsequent_mask = np.triu(np.ones(attn_shape), k=1).astype('uint8')\n",
        "    return torch.from_numpy(subsequent_mask) == 0"
      ],
      "execution_count": 13,
      "outputs": []
    },
    {
      "cell_type": "markdown",
      "metadata": {
        "colab_type": "text",
        "id": "b0lhrAY29Jab"
      },
      "source": [
        "### Attention                                                                                                                                                                                                                                      "
      ]
    },
    {
      "cell_type": "code",
      "metadata": {
        "colab_type": "code",
        "id": "Xm0ybsUV9Ja0",
        "colab": {}
      },
      "source": [
        "def attention(query, key, value, mask=None, dropout=None):\n",
        "    \"Compute 'Scaled Dot Product Attention'\"\n",
        "    d_k = query.size(-1)\n",
        "    scores = torch.matmul(query, key.transpose(-2, -1)) \\\n",
        "             / math.sqrt(d_k)\n",
        "    if mask is not None:\n",
        "        scores = scores.masked_fill(mask == 0, -1e9)\n",
        "    p_attn = F.softmax(scores, dim = -1)\n",
        "    if dropout is not None:\n",
        "        p_attn = dropout(p_attn)\n",
        "    return torch.matmul(p_attn, value), p_attn"
      ],
      "execution_count": 14,
      "outputs": []
    },
    {
      "cell_type": "code",
      "metadata": {
        "colab_type": "code",
        "id": "1z-Ofe7t9Jbj",
        "colab": {}
      },
      "source": [
        "class MultiHeadedAttention(nn.Module):\n",
        "    def __init__(self, h, d_model, dropout=0.1):\n",
        "        \"Take in model size and number of heads.\"\n",
        "        super(MultiHeadedAttention, self).__init__()\n",
        "        assert d_model % h == 0\n",
        "        # We assume d_v always equals d_k\n",
        "        self.d_k = d_model // h\n",
        "        self.h = h\n",
        "        self.linears = clones(nn.Linear(d_model, d_model), 4)\n",
        "        self.attn = None\n",
        "        self.dropout = nn.Dropout(p=dropout)\n",
        "        \n",
        "    def forward(self, query, key, value, mask=None):\n",
        "        \"Implements Figure 2\"\n",
        "        if mask is not None:\n",
        "            # Same mask applied to all h heads.\n",
        "            mask = mask.unsqueeze(1)\n",
        "        nbatches = query.size(0)\n",
        "        \n",
        "        # 1) Do all the linear projections in batch from d_model => h x d_k \n",
        "        query, key, value = \\\n",
        "            [l(x).view(nbatches, -1, self.h, self.d_k).transpose(1, 2)\n",
        "             for l, x in zip(self.linears, (query, key, value))]\n",
        "        \n",
        "        # 2) Apply attention on all the projected vectors in batch. \n",
        "        x, self.attn = attention(query, key, value, mask=mask, \n",
        "                                 dropout=self.dropout)\n",
        "        \n",
        "        # 3) \"Concat\" using a view and apply a final linear. \n",
        "        x = x.transpose(1, 2).contiguous() \\\n",
        "             .view(nbatches, -1, self.h * self.d_k)\n",
        "        return self.linears[-1](x)"
      ],
      "execution_count": 15,
      "outputs": []
    },
    {
      "cell_type": "markdown",
      "metadata": {
        "colab_type": "text",
        "id": "J62V_0N69Jb0"
      },
      "source": [
        "## Position-wise Feed-Forward Networks                                                                                                         "
      ]
    },
    {
      "cell_type": "code",
      "metadata": {
        "colab_type": "code",
        "id": "DFWKAj1u9Jb3",
        "colab": {}
      },
      "source": [
        "class PositionwiseFeedForward(nn.Module):\n",
        "    \"Implements FFN equation.\"\n",
        "    def __init__(self, d_model, d_ff, dropout=0.1):\n",
        "        super(PositionwiseFeedForward, self).__init__()\n",
        "        self.w_1 = nn.Linear(d_model, d_ff)\n",
        "        self.w_2 = nn.Linear(d_ff, d_model)\n",
        "        self.dropout = nn.Dropout(dropout)\n",
        "\n",
        "    def forward(self, x):\n",
        "        return self.w_2(self.dropout(F.relu(self.w_1(x))))"
      ],
      "execution_count": 16,
      "outputs": []
    },
    {
      "cell_type": "markdown",
      "metadata": {
        "colab_type": "text",
        "id": "6J8Jub189JcE"
      },
      "source": [
        "## Embeddings and Softmax                                                                                                                                                                                                                                               "
      ]
    },
    {
      "cell_type": "code",
      "metadata": {
        "colab_type": "code",
        "id": "KLRqKP5A9JcH",
        "colab": {}
      },
      "source": [
        "class Embeddings(nn.Module):\n",
        "    def __init__(self, d_model, vocab):\n",
        "        super(Embeddings, self).__init__()\n",
        "        self.lut = nn.Embedding(vocab, d_model)\n",
        "        self.d_model = d_model\n",
        "\n",
        "    def forward(self, x):\n",
        "        return self.lut(x) * math.sqrt(self.d_model)"
      ],
      "execution_count": 17,
      "outputs": []
    },
    {
      "cell_type": "markdown",
      "metadata": {
        "colab_type": "text",
        "id": "I1KyuOy_9JcW"
      },
      "source": [
        "## Positional Encoding                                                                                                                             \n",
        "                                                                                                                                                                                                                                                    \n"
      ]
    },
    {
      "cell_type": "code",
      "metadata": {
        "colab_type": "code",
        "id": "zYM6OfN49JcW",
        "colab": {}
      },
      "source": [
        "class PositionalEncoding(nn.Module):\n",
        "    \"Implement the PE function.\"\n",
        "    def __init__(self, d_model, dropout, max_len=5000):\n",
        "        super(PositionalEncoding, self).__init__()\n",
        "        self.dropout = nn.Dropout(p=dropout)\n",
        "        \n",
        "        # Compute the positional encodings once in log space.\n",
        "        pe = torch.zeros(max_len, d_model)\n",
        "        position = torch.arange(0., max_len).unsqueeze(1)\n",
        "        div_term = torch.exp(torch.arange(0., d_model, 2) *\n",
        "                             -(math.log(10000.0) / d_model))\n",
        "        pe[:, 0::2] = torch.sin(position * div_term)\n",
        "        pe[:, 1::2] = torch.cos(position * div_term)\n",
        "        pe = pe.unsqueeze(0)\n",
        "        self.register_buffer('pe', pe)\n",
        "        \n",
        "    def forward(self, x):\n",
        "        x = x + Variable(self.pe[:, :x.size(1)], \n",
        "                         requires_grad=False)\n",
        "        return self.dropout(x)"
      ],
      "execution_count": 18,
      "outputs": []
    },
    {
      "cell_type": "markdown",
      "metadata": {
        "colab_type": "text",
        "id": "Y3ACPU2S9JdI"
      },
      "source": [
        "## Full Model"
      ]
    },
    {
      "cell_type": "code",
      "metadata": {
        "colab_type": "code",
        "id": "G1NRs85j9JdL",
        "colab": {}
      },
      "source": [
        "def make_model(src_vocab, tgt_vocab, N=6, \n",
        "               d_model=512, d_ff=2048, h=8, dropout=0.1):\n",
        "    \"Helper: Construct a model from hyperparameters.\"\n",
        "    c = copy.deepcopy\n",
        "    attn = MultiHeadedAttention(h, d_model)\n",
        "    ff = PositionwiseFeedForward(d_model, d_ff, dropout)\n",
        "    position = PositionalEncoding(d_model, dropout)\n",
        "    model = EncoderDecoder(\n",
        "        Encoder(EncoderLayer(d_model, c(attn), c(ff), dropout), N),\n",
        "        Decoder(DecoderLayer(d_model, c(attn), c(attn), \n",
        "                             c(ff), dropout), N),\n",
        "        nn.Sequential(Embeddings(d_model, src_vocab), c(position)),\n",
        "        nn.Sequential(Embeddings(d_model, tgt_vocab), c(position)),\n",
        "        Generator(d_model, tgt_vocab))\n",
        "    \n",
        "    # This was important from their code. \n",
        "    # Initialize parameters with Glorot / fan_avg.\n",
        "    for p in model.parameters():\n",
        "        if p.dim() > 1:\n",
        "            nn.init.xavier_uniform(p)\n",
        "    model = model.cuda()\n",
        "    return model"
      ],
      "execution_count": 19,
      "outputs": []
    },
    {
      "cell_type": "markdown",
      "metadata": {
        "colab_type": "text",
        "id": "15Q3i9ZM9JeC"
      },
      "source": [
        "# Training\n"
      ]
    },
    {
      "cell_type": "markdown",
      "metadata": {
        "colab_type": "text",
        "id": "HJM7WHOt9JeG"
      },
      "source": [
        "## Batches and Masking"
      ]
    },
    {
      "cell_type": "code",
      "metadata": {
        "colab_type": "code",
        "id": "lCfaC6IC9JeH",
        "colab": {}
      },
      "source": [
        "class Batch:\n",
        "    \"Object for holding a batch of data with mask during training.\"\n",
        "    def __init__(self, src, trg=None, pad=0):\n",
        "        self.src = src\n",
        "        self.src_mask = (src != pad).unsqueeze(-2)\n",
        "        if trg is not None:\n",
        "            self.trg = trg[:, :-1]\n",
        "            self.trg_y = trg[:, 1:]\n",
        "            self.trg_mask = \\\n",
        "                self.make_std_mask(self.trg, pad)\n",
        "            self.ntokens = (self.trg_y != pad).data.sum()\n",
        "    \n",
        "    @staticmethod\n",
        "    def make_std_mask(tgt, pad):\n",
        "        \"Create a mask to hide padding and future words.\"\n",
        "        tgt_mask = (tgt != pad).unsqueeze(-2)\n",
        "        tgt_mask = tgt_mask & Variable(\n",
        "            subsequent_mask(tgt.size(-1)).type_as(tgt_mask.data))\n",
        "        tgt_mask = tgt_mask.cuda()\n",
        "        return tgt_mask"
      ],
      "execution_count": 20,
      "outputs": []
    },
    {
      "cell_type": "markdown",
      "metadata": {
        "colab_type": "text",
        "id": "WRd3tcnf9JeO"
      },
      "source": [
        "## Training Loop"
      ]
    },
    {
      "cell_type": "code",
      "metadata": {
        "colab_type": "code",
        "id": "_TibeTpC9JeT",
        "colab": {}
      },
      "source": [
        "def run_epoch(data_iter, model, loss_compute):\n",
        "    \"Standard Training and Logging Function\"\n",
        "    start = time.time()\n",
        "    total_tokens = 0\n",
        "    total_loss = 0\n",
        "    tokens = 0\n",
        "    for i, batch in enumerate(data_iter):\n",
        "        batch.src = batch.src.to(device)\n",
        "        batch.trg = batch.trg.to(device)\n",
        "        batch.src_mask = batch.src_mask.to(device)\n",
        "        batch.trg_mask = batch.trg_mask.to(device)\n",
        "        out = model.forward(batch.src, batch.trg, \n",
        "                            batch.src_mask, batch.trg_mask)\n",
        "        loss = loss_compute(out, batch.trg_y, batch.ntokens).cuda()\n",
        "        total_loss += loss\n",
        "        total_loss = total_loss.cuda()\n",
        "        total_tokens += batch.ntokens\n",
        "        tokens += batch.ntokens\n",
        "        if i % 50 == 1:\n",
        "            elapsed = time.time() - start\n",
        "            print(\"Epoch Step: %d Loss: %f Tokens per Sec: %f\" %\n",
        "                    (i, loss / batch.ntokens, tokens / elapsed))\n",
        "            start = time.time()\n",
        "            tokens = 0\n",
        "    return total_loss / total_tokens"
      ],
      "execution_count": 21,
      "outputs": []
    },
    {
      "cell_type": "markdown",
      "metadata": {
        "colab_type": "text",
        "id": "ig69PqPo9Jec"
      },
      "source": [
        "## Training Data and Batching"
      ]
    },
    {
      "cell_type": "code",
      "metadata": {
        "colab_type": "code",
        "id": "CZXbWR4s9Jef",
        "colab": {}
      },
      "source": [
        "global max_src_in_batch, max_tgt_in_batch\n",
        "def batch_size_fn(new, count, sofar):\n",
        "    \"Keep augmenting batch and calculate total number of tokens + padding.\"\n",
        "    global max_src_in_batch, max_tgt_in_batch\n",
        "    if count == 1:\n",
        "        max_src_in_batch = 0\n",
        "        max_tgt_in_batch = 0\n",
        "    max_src_in_batch = max(max_src_in_batch,  len(new.src))\n",
        "    max_tgt_in_batch = max(max_tgt_in_batch,  len(new.trg) + 2)\n",
        "    src_elements = count * max_src_in_batch\n",
        "    tgt_elements = count * max_tgt_in_batch\n",
        "    maximum = max(src_elements, tgt_elements)\n",
        "    return maximum"
      ],
      "execution_count": 22,
      "outputs": []
    },
    {
      "cell_type": "markdown",
      "metadata": {
        "colab_type": "text",
        "id": "rHZADZpc9Jeq"
      },
      "source": [
        "## Optimizer                   "
      ]
    },
    {
      "cell_type": "code",
      "metadata": {
        "colab_type": "code",
        "id": "KGjNgzzU9Je-",
        "colab": {}
      },
      "source": [
        "class NoamOpt:\n",
        "    \"Optim wrapper that implements rate.\"\n",
        "    def __init__(self, model_size, factor, warmup, optimizer):\n",
        "        self.optimizer = optimizer\n",
        "        self._step = 0\n",
        "        self.warmup = warmup\n",
        "        self.factor = factor\n",
        "        self.model_size = model_size\n",
        "        self._rate = 0\n",
        "        \n",
        "    def step(self):\n",
        "        \"Update parameters and rate\"\n",
        "        self._step += 1\n",
        "        rate = self.rate()\n",
        "        for p in self.optimizer.param_groups:\n",
        "            p['lr'] = rate\n",
        "        self._rate = rate\n",
        "        self.optimizer.step()\n",
        "        \n",
        "    def rate(self, step = None):\n",
        "        \"Implement `lrate` above\"\n",
        "        if step is None:\n",
        "            step = self._step\n",
        "        return self.factor * \\\n",
        "            (self.model_size ** (-0.5) *\n",
        "            min(step ** (-0.5), step * self.warmup ** (-1.5)))\n",
        "        \n",
        "def get_std_opt(model):\n",
        "    return NoamOpt(model.src_embed[0].d_model, 2, 4000,\n",
        "            torch.optim.Adam(model.parameters(), lr=0, betas=(0.9, 0.98), eps=1e-9))"
      ],
      "execution_count": 23,
      "outputs": []
    },
    {
      "cell_type": "markdown",
      "metadata": {
        "colab_type": "text",
        "id": "IAvWRrvM9Jfx"
      },
      "source": [
        "## Regularization                                                                                                                                                                                                                                                                                                                                                                                                                                                                                                                                                                                          \n",
        "                                                                                                                                                                                                                                                                                                                      \n",
        "### Label Smoothing\n"
      ]
    },
    {
      "cell_type": "code",
      "metadata": {
        "colab_type": "code",
        "id": "meu_2K6E9Jfz",
        "colab": {}
      },
      "source": [
        "class LabelSmoothing(nn.Module):\n",
        "    \"Implement label smoothing.\"\n",
        "    def __init__(self, size, padding_idx, smoothing=0.0):\n",
        "        super(LabelSmoothing, self).__init__()\n",
        "        self.criterion = nn.KLDivLoss(size_average=False)\n",
        "        self.criterion = self.criterion.to(device)\n",
        "        self.padding_idx = padding_idx\n",
        "        self.confidence = 1.0 - smoothing\n",
        "        self.smoothing = smoothing\n",
        "        self.size = size\n",
        "        self.true_dist = None\n",
        "        \n",
        "    def forward(self, x, target):\n",
        "        assert x.size(1) == self.size\n",
        "        target.data = target.data.to(device)\n",
        "        true_dist = x.data.clone()\n",
        "        true_dist = true_dist.to(device)\n",
        "        true_dist.fill_(self.smoothing / (self.size - 2))\n",
        "        true_dist.scatter_(1, target.data.unsqueeze(1), self.confidence)\n",
        "        true_dist[:, self.padding_idx] = 0\n",
        "        mask = torch.nonzero(target.data == self.padding_idx)\n",
        "        mask = mask.to(device)\n",
        "        if mask.dim() > 0:\n",
        "            true_dist.index_fill_(0, mask.squeeze(), 0.0)\n",
        "        self.true_dist = true_dist\n",
        "        self.true_dist = self.true_dist.to(device)\n",
        "        final_criterion = self.criterion(x, Variable(true_dist, requires_grad=False)).to(device)\n",
        "        return final_criterion"
      ],
      "execution_count": 24,
      "outputs": []
    },
    {
      "cell_type": "markdown",
      "metadata": {
        "colab_type": "text",
        "id": "RmIyLaB49JgR"
      },
      "source": [
        "## Loss Computation"
      ]
    },
    {
      "cell_type": "code",
      "metadata": {
        "colab_type": "code",
        "id": "KavaCkPno_5p",
        "colab": {}
      },
      "source": [
        "class SimpleLossCompute:\n",
        "    \"A simple loss compute and train function.\"\n",
        "    def __init__(self, generator, criterion, opt=None):\n",
        "        self.generator = generator\n",
        "        self.criterion = criterion\n",
        "        self.opt = opt\n",
        "        \n",
        "    def __call__(self, x, y, norm):\n",
        "        x = self.generator(x).cuda()\n",
        "        loss = self.criterion(x.contiguous().view(-1, x.size(-1)), \n",
        "                              y.contiguous().view(-1)) / norm\n",
        "        loss = loss.cuda()\n",
        "        if self.opt is not None:\n",
        "            loss.backward()\n",
        "            self.opt.step()\n",
        "            self.opt.optimizer.zero_grad()\n",
        "        final_loss = (loss.data * norm).cuda()\n",
        "        return final_loss"
      ],
      "execution_count": 25,
      "outputs": []
    },
    {
      "cell_type": "markdown",
      "metadata": {
        "colab_type": "text",
        "id": "bkwPlJcn3AID"
      },
      "source": [
        "## Greedy Decoding"
      ]
    },
    {
      "cell_type": "code",
      "metadata": {
        "colab_type": "code",
        "id": "2WSOO6HTG1NT",
        "colab": {}
      },
      "source": [
        "def greedy_decode(model, src, src_mask, max_len, start_symbol):\n",
        "    src_mask = src_mask.to(device)\n",
        "    model = model.to(device)\n",
        "    memory = model.encode(src, src_mask)\n",
        "    ys = torch.ones(1, 1).fill_(start_symbol).type_as(src.data)\n",
        "    for i in range(max_len-1):\n",
        "        out = model.decode(memory, src_mask, \n",
        "                           Variable(ys), \n",
        "                           Variable(subsequent_mask(ys.size(1))\n",
        "                                    .type_as(src.data)))\n",
        "        prob = model.generator(out[:, -1])\n",
        "        _, next_word = torch.max(prob, dim = 1)\n",
        "        next_word = next_word.data[0]\n",
        "        ys = torch.cat([ys, \n",
        "                        torch.ones(1, 1).type_as(src.data).fill_(next_word)], dim=1)\n",
        "    return ys"
      ],
      "execution_count": 26,
      "outputs": []
    },
    {
      "cell_type": "markdown",
      "metadata": {
        "colab_type": "text",
        "id": "oMdY6Hp39Jgp"
      },
      "source": [
        "# Data Preparation"
      ]
    },
    {
      "cell_type": "code",
      "metadata": {
        "colab_type": "code",
        "id": "L-biaLpD9Jgu",
        "colab": {}
      },
      "source": [
        "# For data loading.\n",
        "import os\n",
        "from torchtext import data, datasets\n",
        "from torchtext.data import Field, BucketIterator, TabularDataset\n",
        "\n",
        "main_path = \"/content/drive/My Drive/\"\n",
        "\n",
        "corpus_name = \"News_Dataset\"\n",
        "corpus = os.path.join(main_path, corpus_name)\n",
        "save_dir = os.path.join(corpus, \"output/transformer\")\n",
        "data_path = os.path.join(corpus, \"data/transformer_data\")\n",
        "os.chdir(data_path)\n",
        "\n",
        "masked_train_path = os.path.join(data_path, \"masked_train_headlines.txt\")\n",
        "unmasked_train_path = os.path.join(data_path, \"train_headlines.txt\")\n",
        "\n",
        "masked_val_path = os.path.join(data_path, \"masked_val_headlines.txt\")\n",
        "unmasked_val_path = os.path.join(data_path, \"val_headlines.txt\")\n",
        "\n",
        "masked_test_path = os.path.join(data_path, \"masked_test_headlines.txt\")\n",
        "unmasked_test_path = os.path.join(data_path, \"test_headlines.txt\")"
      ],
      "execution_count": 28,
      "outputs": []
    },
    {
      "cell_type": "code",
      "metadata": {
        "colab_type": "code",
        "id": "lGHtOlwM9pnf",
        "colab": {}
      },
      "source": [
        "from string import punctuation\n",
        "import re\n",
        "\n",
        "masked_train = open(masked_train_path, encoding='utf-8').read().split('\\n')\n",
        "unmasked_train = open(unmasked_train_path, encoding='utf-8').read().split('\\n')\n",
        "\n",
        "masked_val = open(masked_val_path, encoding='utf-8').read().split('\\n')\n",
        "unmasked_val = open(unmasked_val_path, encoding='utf-8').read().split('\\n')\n",
        "\n",
        "masked_test = open(masked_test_path, encoding='utf-8').read().split('\\n')\n",
        "unmasked_test = open(unmasked_test_path, encoding='utf-8').read().split('\\n')\n",
        "\n",
        "\n",
        "def process_text(s):\n",
        "    s = s.lower().strip()\n",
        "    s = re.sub('\\!+', '!', s)\n",
        "    s = re.sub('\\,+', ',', s)\n",
        "    s = re.sub('\\?+', '?', s)\n",
        "    s = re.sub('\\.+', '.', s)    \n",
        "    s = re.sub(\"[^a-zA-Z.!?,\\[\\]'']+\", ' ', s)\n",
        "    for p in punctuation:\n",
        "      if p not in [\"'\", \"[\", \"]\"]:\n",
        "        s = s.replace(p, \" \" + p + \" \")       \n",
        "    s = re.sub(' +', ' ', s)\n",
        "    s = s.strip()\n",
        "    return s\n",
        "\n",
        "  \n",
        "BOS_WORD = '<s>'\n",
        "EOS_WORD = '</s>'\n",
        "BLANK_WORD = \"<blank>\"\n",
        "SRC = data.Field(pad_token=BLANK_WORD)\n",
        "TGT = data.Field(init_token = BOS_WORD, \n",
        "                 eos_token = EOS_WORD, pad_token=BLANK_WORD)"
      ],
      "execution_count": 34,
      "outputs": []
    },
    {
      "cell_type": "code",
      "metadata": {
        "colab_type": "code",
        "id": "rvz60aW49rUV",
        "colab": {}
      },
      "source": [
        "import pandas as pd\n",
        "\n",
        "train_data = {'src' : [line for line in masked_train], 'trg': [line for line in unmasked_train]}\n",
        "train = pd.DataFrame(train_data, columns=[\"src\", \"trg\"])\n",
        "\n",
        "val_data = {'src' : [line for line in masked_val], 'trg': [line for line in unmasked_val]}\n",
        "val = pd.DataFrame(val_data, columns=[\"src\", \"trg\"])\n",
        "\n",
        "test_data = {'src' : [line for line in masked_test], 'trg': [line for line in unmasked_test]}\n",
        "test = pd.DataFrame(test_data, columns=[\"src\", \"trg\"])\n",
        "\n",
        "train.to_csv(\"train.csv\", index=False)\n",
        "val.to_csv(\"val.csv\", index=False)\n",
        "test.to_csv(\"test.csv\", index=False)"
      ],
      "execution_count": 35,
      "outputs": []
    },
    {
      "cell_type": "code",
      "metadata": {
        "colab_type": "code",
        "id": "vtRrjgUe9sWw",
        "colab": {}
      },
      "source": [
        "data_fields = [('src', SRC), ('trg', TGT)]\n",
        "train,val,test = data.TabularDataset.splits(path=data_path, train='train.csv', validation='val.csv', test='test.csv', format='csv', fields=data_fields)"
      ],
      "execution_count": 36,
      "outputs": []
    },
    {
      "cell_type": "code",
      "metadata": {
        "colab_type": "code",
        "id": "CBzg-obP9t0-",
        "colab": {}
      },
      "source": [
        "SRC.build_vocab(train, val)\n",
        "TGT.build_vocab(train, val)"
      ],
      "execution_count": 37,
      "outputs": []
    },
    {
      "cell_type": "markdown",
      "metadata": {
        "colab_type": "text",
        "id": "xi9PRYq39Jgx"
      },
      "source": [
        "## Iterators"
      ]
    },
    {
      "cell_type": "code",
      "metadata": {
        "colab_type": "code",
        "id": "a-0MsaBH9Jgz",
        "colab": {}
      },
      "source": [
        "class MyIterator(data.Iterator):\n",
        "    def create_batches(self):\n",
        "        if self.train:\n",
        "            def pool(d, random_shuffler):\n",
        "                for p in data.batch(d, self.batch_size * 100):\n",
        "                    p_batch = data.batch(\n",
        "                        sorted(p, key=self.sort_key),\n",
        "                        self.batch_size, self.batch_size_fn)\n",
        "                    for b in random_shuffler(list(p_batch)):\n",
        "                        yield b\n",
        "            self.batches = pool(self.data(), self.random_shuffler)\n",
        "        else:\n",
        "            self.batches = []\n",
        "            for b in data.batch(self.data(), self.batch_size,\n",
        "                                          self.batch_size_fn):\n",
        "                self.batches.append(sorted(b, key=self.sort_key))\n",
        "\n",
        "def rebatch(pad_idx, batch):\n",
        "    \"Fix order in torchtext to match ours\"\n",
        "    src, trg = batch.src.transpose(0, 1), batch.trg.transpose(0, 1)\n",
        "    src, trg = src.cuda(), trg.cuda()\n",
        "    return Batch(src, trg, pad_idx)"
      ],
      "execution_count": 38,
      "outputs": []
    },
    {
      "cell_type": "markdown",
      "metadata": {
        "colab_type": "text",
        "collapsed": true,
        "id": "hoWoR2ni9Jg8"
      },
      "source": [
        "## Training"
      ]
    },
    {
      "cell_type": "code",
      "metadata": {
        "colab_type": "code",
        "id": "7m1O_IDc9JhB",
        "colab": {
          "base_uri": "https://localhost:8080/",
          "height": 121
        },
        "outputId": "d217b703-a8bd-4700-e641-fe0f26e5a3b6"
      },
      "source": [
        "if True:\n",
        "    pad_idx = TGT.vocab.stoi[\"<blank>\"]\n",
        "    model = make_model(len(SRC.vocab), len(TGT.vocab), N=6)\n",
        "    model = model.cuda()\n",
        "    criterion = LabelSmoothing(size=len(TGT.vocab), padding_idx=pad_idx, smoothing=0.1)\n",
        "    criterion = criterion.cuda()\n",
        "    BATCH_SIZE = 4096\n",
        "    train_iter = MyIterator(train, batch_size=BATCH_SIZE, device=0,\n",
        "                            repeat=False, sort_key=lambda x: (len(x.src), len(x.trg)),\n",
        "                            batch_size_fn=batch_size_fn, train=True)\n",
        "    valid_iter = MyIterator(val, batch_size=BATCH_SIZE, device=0,\n",
        "                            repeat=False, sort_key=lambda x: (len(x.src), len(x.trg)),\n",
        "                            batch_size_fn=batch_size_fn, train=False)"
      ],
      "execution_count": 39,
      "outputs": [
        {
          "output_type": "stream",
          "text": [
            "/usr/local/lib/python3.6/dist-packages/ipykernel_launcher.py:20: UserWarning: nn.init.xavier_uniform is now deprecated in favor of nn.init.xavier_uniform_.\n",
            "/usr/local/lib/python3.6/dist-packages/torch/nn/_reduction.py:44: UserWarning: size_average and reduce args will be deprecated, please use reduction='sum' instead.\n",
            "  warnings.warn(warning.format(ret))\n",
            "The `device` argument should be set by using `torch.device` or passing a string as an argument. This behavior will be deprecated soon and currently defaults to cpu.\n",
            "The `device` argument should be set by using `torch.device` or passing a string as an argument. This behavior will be deprecated soon and currently defaults to cpu.\n"
          ],
          "name": "stderr"
        }
      ]
    },
    {
      "cell_type": "markdown",
      "metadata": {
        "colab_type": "text",
        "id": "atFZ0pM19JhJ"
      },
      "source": [
        "## Training the System"
      ]
    },
    {
      "cell_type": "code",
      "metadata": {
        "colab_type": "code",
        "id": "gHI5-erh9JhR",
        "colab": {
          "base_uri": "https://localhost:8080/",
          "height": 1000
        },
        "outputId": "715b2cba-8596-4b10-ae19-51aea499a1a5"
      },
      "source": [
        "import time\n",
        "start = time.time()\n",
        "\n",
        "#model = torch.load('news_transformer_10_full.pt') #uncomment to continue training from a saved model (e.g. news_transformer_10_full.pt, set start=10)\n",
        "start = 0 #change this depending on model loaded on previous line\n",
        "log_f = open(\"SMERTI_loss_log.txt\", 'a')\n",
        "model_opt = NoamOpt(model.src_embed[0].d_model, 1, 2000,\n",
        "                    torch.optim.Adam(model.parameters(), lr=0, betas=(0.9, 0.98), eps=1e-9))\n",
        "total_epochs = 15\n",
        "\n",
        "for epoch in range(total_epochs):\n",
        "    print(\"Beginning epoch \", epoch+1+start)\n",
        "    model.train()\n",
        "    run_epoch((rebatch(pad_idx, b) for b in train_iter), \n",
        "                model, \n",
        "                SimpleLossCompute(model.generator, criterion, model_opt))\n",
        "    model.eval()\n",
        "    with torch.no_grad():\n",
        "        test_loss = run_epoch((rebatch(pad_idx, b) for b in valid_iter), model, SimpleLossCompute(model.generator, criterion, None))\n",
        "        print(\"validation_loss: \", test_loss)\n",
        "    log_f.write(str(epoch+1+start)+' | '+str(test_loss)+'\\n')\n",
        "\n",
        "    path = \"news_transformer_{}.pt\".format((epoch+1+start))\n",
        "    path2 = \"news_transformer_{}_full.pt\".format((epoch+1+start))\n",
        "    torch.save(model.state_dict(), path)\n",
        "    torch.save(model, path2)\n",
        "\n",
        "log_f.close()\n",
        "\n",
        "end = time.time()\n",
        "print(end - start)"
      ],
      "execution_count": 40,
      "outputs": [
        {
          "output_type": "stream",
          "text": [
            "Beginning epoch  1\n"
          ],
          "name": "stdout"
        },
        {
          "output_type": "stream",
          "text": [
            "/usr/local/lib/python3.6/dist-packages/ipykernel_launcher.py:21: UserWarning: This overload of nonzero is deprecated:\n",
            "\tnonzero(Tensor input, *, Tensor out)\n",
            "Consider using one of the following signatures instead:\n",
            "\tnonzero(Tensor input, *, bool as_tuple) (Triggered internally at  /pytorch/torch/csrc/utils/python_arg_parser.cpp:766.)\n"
          ],
          "name": "stderr"
        },
        {
          "output_type": "stream",
          "text": [
            "Epoch Step: 1 Loss: 9.589652 Tokens per Sec: 4823.161133\n",
            "Epoch Step: 51 Loss: 9.105798 Tokens per Sec: 8841.984375\n",
            "Epoch Step: 101 Loss: 8.037052 Tokens per Sec: 8986.899414\n",
            "Epoch Step: 151 Loss: 7.240486 Tokens per Sec: 8886.270508\n",
            "Epoch Step: 201 Loss: 6.465158 Tokens per Sec: 9006.940430\n",
            "Epoch Step: 251 Loss: 6.727282 Tokens per Sec: 8783.362305\n",
            "Epoch Step: 301 Loss: 6.504844 Tokens per Sec: 8929.931641\n",
            "Epoch Step: 1 Loss: 6.030023 Tokens per Sec: 21038.796875\n",
            "Epoch Step: 51 Loss: 6.451532 Tokens per Sec: 25616.248047\n",
            "validation_loss:  tensor(6.3744, device='cuda:0')\n",
            "Beginning epoch  2\n",
            "Epoch Step: 1 Loss: 6.310630 Tokens per Sec: 5169.170898\n",
            "Epoch Step: 51 Loss: 6.248110 Tokens per Sec: 8614.873047\n",
            "Epoch Step: 101 Loss: 6.313365 Tokens per Sec: 8826.147461\n",
            "Epoch Step: 151 Loss: 6.167193 Tokens per Sec: 8983.055664\n",
            "Epoch Step: 201 Loss: 5.902247 Tokens per Sec: 8976.916016\n",
            "Epoch Step: 251 Loss: 5.722818 Tokens per Sec: 8963.451172\n",
            "Epoch Step: 301 Loss: 5.172111 Tokens per Sec: 9021.692383\n",
            "Epoch Step: 1 Loss: 5.148520 Tokens per Sec: 21550.839844\n",
            "Epoch Step: 51 Loss: 5.316779 Tokens per Sec: 25632.869141\n",
            "validation_loss:  tensor(5.2847, device='cuda:0')\n",
            "Beginning epoch  3\n",
            "Epoch Step: 1 Loss: 5.066699 Tokens per Sec: 4778.954590\n",
            "Epoch Step: 51 Loss: 5.031688 Tokens per Sec: 8945.584961\n",
            "Epoch Step: 101 Loss: 5.315243 Tokens per Sec: 8958.546875\n",
            "Epoch Step: 151 Loss: 4.435057 Tokens per Sec: 8946.185547\n",
            "Epoch Step: 201 Loss: 4.993624 Tokens per Sec: 8922.745117\n",
            "Epoch Step: 251 Loss: 3.849782 Tokens per Sec: 9020.055664\n",
            "Epoch Step: 301 Loss: 3.612119 Tokens per Sec: 8991.895508\n",
            "Epoch Step: 1 Loss: 4.210571 Tokens per Sec: 21467.378906\n",
            "Epoch Step: 51 Loss: 3.687693 Tokens per Sec: 25614.789062\n",
            "validation_loss:  tensor(3.7552, device='cuda:0')\n",
            "Beginning epoch  4\n",
            "Epoch Step: 1 Loss: 4.012711 Tokens per Sec: 4852.297852\n",
            "Epoch Step: 51 Loss: 3.834448 Tokens per Sec: 8846.866211\n",
            "Epoch Step: 101 Loss: 3.722546 Tokens per Sec: 8950.323242\n",
            "Epoch Step: 151 Loss: 3.046709 Tokens per Sec: 8945.928711\n",
            "Epoch Step: 201 Loss: 3.406518 Tokens per Sec: 9037.014648\n",
            "Epoch Step: 251 Loss: 3.208265 Tokens per Sec: 8960.011719\n",
            "Epoch Step: 301 Loss: 2.523046 Tokens per Sec: 9042.187500\n",
            "Epoch Step: 1 Loss: 3.081079 Tokens per Sec: 21224.251953\n",
            "Epoch Step: 51 Loss: 2.905558 Tokens per Sec: 25630.750000\n",
            "validation_loss:  tensor(2.9120, device='cuda:0')\n",
            "Beginning epoch  5\n",
            "Epoch Step: 1 Loss: 2.459419 Tokens per Sec: 5148.462402\n",
            "Epoch Step: 51 Loss: 2.078245 Tokens per Sec: 8874.262695\n",
            "Epoch Step: 101 Loss: 2.432909 Tokens per Sec: 9006.067383\n",
            "Epoch Step: 151 Loss: 1.956930 Tokens per Sec: 8986.700195\n",
            "Epoch Step: 201 Loss: 3.304255 Tokens per Sec: 8909.503906\n",
            "Epoch Step: 251 Loss: 2.212718 Tokens per Sec: 8857.141602\n",
            "Epoch Step: 301 Loss: 2.996367 Tokens per Sec: 9068.281250\n",
            "Epoch Step: 1 Loss: 2.692617 Tokens per Sec: 21435.978516\n",
            "Epoch Step: 51 Loss: 2.389576 Tokens per Sec: 25617.447266\n",
            "validation_loss:  tensor(2.4545, device='cuda:0')\n",
            "Beginning epoch  6\n",
            "Epoch Step: 1 Loss: 1.864638 Tokens per Sec: 5279.713867\n",
            "Epoch Step: 51 Loss: 1.855206 Tokens per Sec: 8886.717773\n",
            "Epoch Step: 101 Loss: 2.741713 Tokens per Sec: 8996.963867\n",
            "Epoch Step: 151 Loss: 1.922499 Tokens per Sec: 9019.178711\n",
            "Epoch Step: 201 Loss: 2.853080 Tokens per Sec: 8876.953125\n",
            "Epoch Step: 251 Loss: 1.760417 Tokens per Sec: 8968.864258\n",
            "Epoch Step: 301 Loss: 2.735385 Tokens per Sec: 8977.103516\n",
            "Epoch Step: 1 Loss: 2.565444 Tokens per Sec: 21226.898438\n",
            "Epoch Step: 51 Loss: 2.303172 Tokens per Sec: 25611.701172\n",
            "validation_loss:  tensor(2.3967, device='cuda:0')\n",
            "Beginning epoch  7\n",
            "Epoch Step: 1 Loss: 1.822905 Tokens per Sec: 5260.450684\n",
            "Epoch Step: 51 Loss: 1.347618 Tokens per Sec: 8921.822266\n",
            "Epoch Step: 101 Loss: 2.230213 Tokens per Sec: 9013.314453\n",
            "Epoch Step: 151 Loss: 2.499574 Tokens per Sec: 8937.613281\n",
            "Epoch Step: 201 Loss: 1.529123 Tokens per Sec: 8926.944336\n",
            "Epoch Step: 251 Loss: 2.040680 Tokens per Sec: 8879.570312\n",
            "Epoch Step: 301 Loss: 1.485184 Tokens per Sec: 8948.925781\n",
            "Epoch Step: 1 Loss: 2.457160 Tokens per Sec: 21447.964844\n",
            "Epoch Step: 51 Loss: 2.193013 Tokens per Sec: 25614.322266\n",
            "validation_loss:  tensor(2.2201, device='cuda:0')\n",
            "Beginning epoch  8\n",
            "Epoch Step: 1 Loss: 2.620555 Tokens per Sec: 5368.853516\n",
            "Epoch Step: 51 Loss: 1.250148 Tokens per Sec: 8739.731445\n",
            "Epoch Step: 101 Loss: 2.168959 Tokens per Sec: 8994.305664\n",
            "Epoch Step: 151 Loss: 1.668673 Tokens per Sec: 9020.435547\n",
            "Epoch Step: 201 Loss: 1.300339 Tokens per Sec: 9012.209961\n",
            "Epoch Step: 251 Loss: 1.878971 Tokens per Sec: 8844.299805\n",
            "Epoch Step: 301 Loss: 2.324707 Tokens per Sec: 8968.604492\n",
            "Epoch Step: 1 Loss: 2.386544 Tokens per Sec: 21270.095703\n",
            "Epoch Step: 51 Loss: 2.121390 Tokens per Sec: 25592.949219\n",
            "validation_loss:  tensor(2.1574, device='cuda:0')\n",
            "Beginning epoch  9\n",
            "Epoch Step: 1 Loss: 2.248264 Tokens per Sec: 5405.604492\n",
            "Epoch Step: 51 Loss: 1.136259 Tokens per Sec: 8866.220703\n",
            "Epoch Step: 101 Loss: 1.523609 Tokens per Sec: 9005.910156\n",
            "Epoch Step: 151 Loss: 1.796417 Tokens per Sec: 9034.700195\n",
            "Epoch Step: 201 Loss: 1.219285 Tokens per Sec: 8913.886719\n",
            "Epoch Step: 251 Loss: 1.326931 Tokens per Sec: 9029.128906\n",
            "Epoch Step: 301 Loss: 1.086749 Tokens per Sec: 8944.687500\n",
            "Epoch Step: 1 Loss: 2.428541 Tokens per Sec: 21605.371094\n",
            "Epoch Step: 51 Loss: 2.115260 Tokens per Sec: 25607.134766\n",
            "validation_loss:  tensor(2.1482, device='cuda:0')\n",
            "Beginning epoch  10\n",
            "Epoch Step: 1 Loss: 1.075544 Tokens per Sec: 5305.907227\n",
            "Epoch Step: 51 Loss: 1.466003 Tokens per Sec: 8822.456055\n",
            "Epoch Step: 101 Loss: 0.933674 Tokens per Sec: 9033.419922\n",
            "Epoch Step: 151 Loss: 1.122409 Tokens per Sec: 8923.884766\n",
            "Epoch Step: 201 Loss: 1.195425 Tokens per Sec: 8971.016602\n",
            "Epoch Step: 251 Loss: 1.042316 Tokens per Sec: 8903.665039\n",
            "Epoch Step: 301 Loss: 1.355637 Tokens per Sec: 8954.317383\n",
            "Epoch Step: 1 Loss: 2.404386 Tokens per Sec: 21384.908203\n",
            "Epoch Step: 51 Loss: 2.137755 Tokens per Sec: 25602.931641\n",
            "validation_loss:  tensor(2.1599, device='cuda:0')\n",
            "Beginning epoch  11\n",
            "Epoch Step: 1 Loss: 0.942513 Tokens per Sec: 5272.274414\n",
            "Epoch Step: 51 Loss: 1.203582 Tokens per Sec: 8781.843750\n",
            "Epoch Step: 101 Loss: 1.399068 Tokens per Sec: 8914.207031\n",
            "Epoch Step: 151 Loss: 0.874449 Tokens per Sec: 9050.110352\n",
            "Epoch Step: 201 Loss: 1.131251 Tokens per Sec: 9005.245117\n",
            "Epoch Step: 251 Loss: 1.660820 Tokens per Sec: 9015.070312\n",
            "Epoch Step: 301 Loss: 1.359536 Tokens per Sec: 8950.194336\n",
            "Epoch Step: 1 Loss: 2.423217 Tokens per Sec: 21484.169922\n",
            "Epoch Step: 51 Loss: 2.126781 Tokens per Sec: 25612.867188\n",
            "validation_loss:  tensor(2.1497, device='cuda:0')\n",
            "Beginning epoch  12\n",
            "Epoch Step: 1 Loss: 0.645276 Tokens per Sec: 5154.522949\n",
            "Epoch Step: 51 Loss: 1.318672 Tokens per Sec: 8894.925781\n",
            "Epoch Step: 101 Loss: 1.730135 Tokens per Sec: 8901.226562\n",
            "Epoch Step: 151 Loss: 1.416681 Tokens per Sec: 9040.526367\n",
            "Epoch Step: 201 Loss: 0.963069 Tokens per Sec: 8930.541992\n",
            "Epoch Step: 251 Loss: 0.938653 Tokens per Sec: 8967.375977\n",
            "Epoch Step: 301 Loss: 0.978528 Tokens per Sec: 8969.495117\n",
            "Epoch Step: 1 Loss: 2.469090 Tokens per Sec: 20555.740234\n",
            "Epoch Step: 51 Loss: 2.167119 Tokens per Sec: 25610.177734\n",
            "validation_loss:  tensor(2.1772, device='cuda:0')\n",
            "Beginning epoch  13\n",
            "Epoch Step: 1 Loss: 0.691043 Tokens per Sec: 5569.693359\n",
            "Epoch Step: 51 Loss: 0.555902 Tokens per Sec: 8728.819336\n",
            "Epoch Step: 101 Loss: 0.955347 Tokens per Sec: 8995.766602\n",
            "Epoch Step: 151 Loss: 1.017227 Tokens per Sec: 9056.499023\n",
            "Epoch Step: 201 Loss: 0.928968 Tokens per Sec: 8943.916992\n",
            "Epoch Step: 251 Loss: 1.082748 Tokens per Sec: 8977.644531\n",
            "Epoch Step: 301 Loss: 0.858923 Tokens per Sec: 8971.548828\n",
            "Epoch Step: 1 Loss: 2.498270 Tokens per Sec: 21374.574219\n",
            "Epoch Step: 51 Loss: 2.164197 Tokens per Sec: 25602.236328\n",
            "validation_loss:  tensor(2.1874, device='cuda:0')\n",
            "Beginning epoch  14\n",
            "Epoch Step: 1 Loss: 0.502286 Tokens per Sec: 5310.822754\n",
            "Epoch Step: 51 Loss: 0.778756 Tokens per Sec: 8802.234375\n",
            "Epoch Step: 101 Loss: 0.602895 Tokens per Sec: 8954.644531\n",
            "Epoch Step: 151 Loss: 0.641879 Tokens per Sec: 9015.023438\n",
            "Epoch Step: 201 Loss: 0.634725 Tokens per Sec: 8996.620117\n",
            "Epoch Step: 251 Loss: 1.064463 Tokens per Sec: 8793.464844\n",
            "Epoch Step: 301 Loss: 0.790357 Tokens per Sec: 9003.709961\n",
            "Epoch Step: 1 Loss: 2.535980 Tokens per Sec: 21264.853516\n",
            "Epoch Step: 51 Loss: 2.185093 Tokens per Sec: 25603.730469\n",
            "validation_loss:  tensor(2.2160, device='cuda:0')\n",
            "Beginning epoch  15\n",
            "Epoch Step: 1 Loss: 0.458044 Tokens per Sec: 5497.152344\n",
            "Epoch Step: 51 Loss: 0.470587 Tokens per Sec: 8632.103516\n",
            "Epoch Step: 101 Loss: 0.729567 Tokens per Sec: 8969.047852\n",
            "Epoch Step: 151 Loss: 0.598560 Tokens per Sec: 8935.866211\n",
            "Epoch Step: 201 Loss: 0.586548 Tokens per Sec: 8936.663086\n",
            "Epoch Step: 251 Loss: 0.722971 Tokens per Sec: 8967.822266\n",
            "Epoch Step: 301 Loss: 0.972713 Tokens per Sec: 9039.730469\n",
            "Epoch Step: 1 Loss: 2.551857 Tokens per Sec: 21515.750000\n",
            "Epoch Step: 51 Loss: 2.198661 Tokens per Sec: 25596.005859\n",
            "validation_loss:  tensor(2.2287, device='cuda:0')\n",
            "1600720937.6627111\n"
          ],
          "name": "stdout"
        }
      ]
    },
    {
      "cell_type": "markdown",
      "metadata": {
        "colab_type": "text",
        "id": "6BC18Xz19JiD"
      },
      "source": [
        "<div id=\"disqus_thread\"></div>\n",
        "<script>\n",
        "    /**\n",
        "     *  RECOMMENDED CONFIGURATION VARIABLES: EDIT AND UNCOMMENT THE SECTION BELOW TO INSERT DYNAMIC VALUES FROM YOUR PLATFORM OR CMS.\n",
        "     *  LEARN WHY DEFINING THESE VARIABLES IS IMPORTANT: https://disqus.com/admin/universalcode/#configuration-variables\n",
        "     */\n",
        "    /*\n",
        "    var disqus_config = function () {\n",
        "        this.page.url = PAGE_URL;  // Replace PAGE_URL with your page's canonical URL variable\n",
        "        this.page.identifier = PAGE_IDENTIFIER; // Replace PAGE_IDENTIFIER with your page's unique identifier variable\n",
        "    };\n",
        "    */\n",
        "    (function() {  // REQUIRED CONFIGURATION VARIABLE: EDIT THE SHORTNAME BELOW\n",
        "        var d = document, s = d.createElement('script');\n",
        "        \n",
        "        s.src = 'https://EXAMPLE.disqus.com/embed.js';  // IMPORTANT: Replace EXAMPLE with your forum shortname!\n",
        "        \n",
        "        s.setAttribute('data-timestamp', +new Date());\n",
        "        (d.head || d.body).appendChild(s);\n",
        "    })();\n",
        "</script>\n",
        "<noscript>Please enable JavaScript to view the <a href=\"https://disqus.com/?ref_noscript\" rel=\"nofollow\">comments powered by Disqus.</a></noscript>"
      ]
    }
  ]
}